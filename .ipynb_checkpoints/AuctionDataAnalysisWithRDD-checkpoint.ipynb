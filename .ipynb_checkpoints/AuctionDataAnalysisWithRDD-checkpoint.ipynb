{
 "cells": [
  {
   "cell_type": "markdown",
   "metadata": {},
   "source": [
    "# Auction Data Analysis\n",
    "\n",
    "auctiondata.csv provided here contains the data related to the actions of few items. Here we are trying to get answers of following questions by using spark -\n",
    "\n",
    "\n",
    "1. What is  first record of the RDD?\n",
    "2. What are first 5 record of the RDD?\n",
    "3. What is the total number of bids?\n",
    "4. What is the total number of distinct items that were auctioned?\n",
    "5. What is the total number of item types that were auctioned?\n",
    "6. What is the total number of bids per item type?\n",
    "7. What is the total number of bids per auction?\n",
    "8. Across all auctioned items, what is the max number of bids?\n",
    "9. Across all auctioned items, what is the minimum of bids?\n",
    "10. What is the average bid?\n"
   ]
  },
  {
   "cell_type": "markdown",
   "metadata": {},
   "source": [
    "### Load the data"
   ]
  },
  {
   "cell_type": "code",
   "execution_count": 8,
   "metadata": {
    "collapsed": true
   },
   "outputs": [],
   "source": [
    "auctionRDD = sc.textFile(\"auctiondata.csv\").map(lambda line:line.split(\",\"))"
   ]
  },
  {
   "cell_type": "markdown",
   "metadata": {},
   "source": [
    "@"
   ]
  },
  {
   "cell_type": "code",
   "execution_count": 9,
   "metadata": {
    "collapsed": false
   },
   "outputs": [
    {
     "data": {
      "text/plain": [
       "[u'8213034705',\n",
       " u'95',\n",
       " u'2.927373',\n",
       " u'jake7870',\n",
       " u'0',\n",
       " u'95',\n",
       " u'117.5',\n",
       " u'xbox',\n",
       " u'3']"
      ]
     },
     "execution_count": 9,
     "metadata": {},
     "output_type": "execute_result"
    }
   ],
   "source": [
    "auctionRDD.first()"
   ]
  },
  {
   "cell_type": "markdown",
   "metadata": {},
   "source": [
    "#  2. What are first 5 record of the RDD?"
   ]
  },
  {
   "cell_type": "code",
   "execution_count": 10,
   "metadata": {
    "collapsed": false
   },
   "outputs": [
    {
     "data": {
      "text/plain": [
       "[[u'8213034705',\n",
       "  u'95',\n",
       "  u'2.927373',\n",
       "  u'jake7870',\n",
       "  u'0',\n",
       "  u'95',\n",
       "  u'117.5',\n",
       "  u'xbox',\n",
       "  u'3'],\n",
       " [u'8213034705',\n",
       "  u'115',\n",
       "  u'2.943484',\n",
       "  u'davidbresler2',\n",
       "  u'1',\n",
       "  u'95',\n",
       "  u'117.5',\n",
       "  u'xbox',\n",
       "  u'3'],\n",
       " [u'8213034705',\n",
       "  u'100',\n",
       "  u'2.951285',\n",
       "  u'gladimacowgirl',\n",
       "  u'58',\n",
       "  u'95',\n",
       "  u'117.5',\n",
       "  u'xbox',\n",
       "  u'3'],\n",
       " [u'8213034705',\n",
       "  u'117.5',\n",
       "  u'2.998947',\n",
       "  u'daysrus',\n",
       "  u'10',\n",
       "  u'95',\n",
       "  u'117.5',\n",
       "  u'xbox',\n",
       "  u'3'],\n",
       " [u'8213060420',\n",
       "  u'2',\n",
       "  u'0.065266',\n",
       "  u'donnie4814',\n",
       "  u'5',\n",
       "  u'1',\n",
       "  u'120',\n",
       "  u'xbox',\n",
       "  u'3']]"
      ]
     },
     "execution_count": 10,
     "metadata": {},
     "output_type": "execute_result"
    }
   ],
   "source": [
    "auctionRDD.take(5)"
   ]
  },
  {
   "cell_type": "markdown",
   "metadata": {},
   "source": [
    "# 3. What is the total number of bids?"
   ]
  },
  {
   "cell_type": "code",
   "execution_count": 11,
   "metadata": {
    "collapsed": false
   },
   "outputs": [
    {
     "data": {
      "text/plain": [
       "10654"
      ]
     },
     "execution_count": 11,
     "metadata": {},
     "output_type": "execute_result"
    }
   ],
   "source": [
    "auctionRDD.count()"
   ]
  },
  {
   "cell_type": "code",
   "execution_count": null,
   "metadata": {
    "collapsed": true
   },
   "outputs": [],
   "source": [
    "What is the total number of distinct items that were auctioned?"
   ]
  }
 ],
 "metadata": {
  "anaconda-cloud": {},
  "kernelspec": {
   "display_name": "Python [conda root]",
   "language": "python",
   "name": "conda-root-py"
  },
  "language_info": {
   "codemirror_mode": {
    "name": "ipython",
    "version": 2
   },
   "file_extension": ".py",
   "mimetype": "text/x-python",
   "name": "python",
   "nbconvert_exporter": "python",
   "pygments_lexer": "ipython2",
   "version": "2.7.12"
  }
 },
 "nbformat": 4,
 "nbformat_minor": 1
}
